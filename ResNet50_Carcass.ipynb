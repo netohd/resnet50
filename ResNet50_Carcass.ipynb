{
 "cells": [
  {
   "cell_type": "code",
   "execution_count": 1,
   "metadata": {},
   "outputs": [],
   "source": [
    "from tensorflow.keras.layers import Conv2D,Flatten,Dense,MaxPool2D,BatchNormalization, GlobalAveragePooling2D\n",
    "from tensorflow.keras.applications.resnet50 import preprocess_input, decode_predictions\n",
    "from tensorflow.keras.preprocessing.image import ImageDataGenerator,load_img\n",
    "from tensorflow.keras.applications.resnet50 import ResNet50\n",
    "from tensorflow.keras.preprocessing import image\n",
    "from tensorflow.keras.models import Sequential\n",
    "from tensorflow.keras.models import Model\n",
    "import matplotlib.pyplot as plt\n",
    "import numpy as np"
   ]
  },
  {
   "cell_type": "code",
   "execution_count": 2,
   "metadata": {},
   "outputs": [],
   "source": [
    "img_height, img_width = (224,224)\n",
    "batch_size = 32\n",
    "\n",
    "train_data_dir = r\"dataset\\output2\\train\"\n",
    "valid_data_dir = r\"dataset\\output2\\val\"\n",
    "test_data_dir  = r\"dataset\\output2\\test\""
   ]
  },
  {
   "cell_type": "code",
   "execution_count": 3,
   "metadata": {},
   "outputs": [
    {
     "name": "stdout",
     "output_type": "stream",
     "text": [
      "Found 203 images belonging to 4 classes.\n",
      "Found 43 images belonging to 4 classes.\n"
     ]
    }
   ],
   "source": [
    "train_datagen = ImageDataGenerator(preprocessing_function=preprocess_input,\n",
    "    shear_range=0.2,\n",
    "    zoom_range=0.2,\n",
    "    horizontal_flip=True,\n",
    "    validation_split=0.4)\n",
    "\n",
    "\n",
    "train_generator = train_datagen.flow_from_directory(\n",
    "    train_data_dir,\n",
    "    target_size=(img_height, img_width),\n",
    "    batch_size=batch_size,\n",
    "    class_mode='categorical',\n",
    "    subset='training') # set as training data\n",
    "\n",
    "\n",
    "valid_generator = train_datagen.flow_from_directory(\n",
    "    valid_data_dir, # same directory as training data\n",
    "    target_size=(img_height, img_width),\n",
    "    batch_size=batch_size,\n",
    "    class_mode='categorical',\n",
    "    subset='validation') # set as validation data"
   ]
  },
  {
   "cell_type": "code",
   "execution_count": 4,
   "metadata": {},
   "outputs": [
    {
     "name": "stdout",
     "output_type": "stream",
     "text": [
      "Found 45 images belonging to 4 classes.\n"
     ]
    }
   ],
   "source": [
    "test_generator = train_datagen.flow_from_directory(\n",
    "    test_data_dir, # same directory as training data\n",
    "    target_size=(img_height, img_width),\n",
    "    batch_size=1,\n",
    "    class_mode='categorical',\n",
    "    subset='validation') # set as validation data"
   ]
  },
  {
   "cell_type": "code",
   "execution_count": 5,
   "metadata": {},
   "outputs": [
    {
     "data": {
      "text/plain": [
       "(1, 224, 224, 3)"
      ]
     },
     "execution_count": 5,
     "metadata": {},
     "output_type": "execute_result"
    }
   ],
   "source": [
    "x,y = test_generator.next()\n",
    "x.shape"
   ]
  },
  {
   "cell_type": "code",
   "execution_count": 6,
   "metadata": {},
   "outputs": [
    {
     "data": {
      "text/plain": [
       "4"
      ]
     },
     "execution_count": 6,
     "metadata": {},
     "output_type": "execute_result"
    }
   ],
   "source": [
    "train_generator.num_classes"
   ]
  },
  {
   "cell_type": "code",
   "execution_count": 7,
   "metadata": {},
   "outputs": [
    {
     "name": "stdout",
     "output_type": "stream",
     "text": [
      "Epoch 1/100\n",
      "7/7 [==============================] - 44s 5s/step - loss: 5.0160 - accuracy: 0.2764\n",
      "Epoch 2/100\n",
      "7/7 [==============================] - 43s 6s/step - loss: 3.7817 - accuracy: 0.4008\n",
      "Epoch 3/100\n",
      "7/7 [==============================] - 47s 6s/step - loss: 2.2234 - accuracy: 0.3779\n",
      "Epoch 4/100\n",
      "7/7 [==============================] - 48s 7s/step - loss: 1.0011 - accuracy: 0.5683\n",
      "Epoch 5/100\n",
      "7/7 [==============================] - 49s 7s/step - loss: 0.9982 - accuracy: 0.5795\n",
      "Epoch 6/100\n",
      "7/7 [==============================] - 49s 7s/step - loss: 1.1386 - accuracy: 0.5380\n",
      "Epoch 7/100\n",
      "7/7 [==============================] - 49s 7s/step - loss: 0.8480 - accuracy: 0.6335\n",
      "Epoch 8/100\n",
      "7/7 [==============================] - 50s 7s/step - loss: 0.8677 - accuracy: 0.6094\n",
      "Epoch 9/100\n",
      "7/7 [==============================] - 49s 7s/step - loss: 0.8157 - accuracy: 0.6663\n",
      "Epoch 10/100\n",
      "7/7 [==============================] - 49s 7s/step - loss: 0.8317 - accuracy: 0.6720\n",
      "Epoch 11/100\n",
      "7/7 [==============================] - 49s 7s/step - loss: 0.9981 - accuracy: 0.5800\n",
      "Epoch 12/100\n",
      "7/7 [==============================] - 49s 7s/step - loss: 0.7193 - accuracy: 0.7017\n",
      "Epoch 13/100\n",
      "7/7 [==============================] - 49s 7s/step - loss: 0.7555 - accuracy: 0.6809\n",
      "Epoch 14/100\n",
      "7/7 [==============================] - 49s 7s/step - loss: 0.7601 - accuracy: 0.6615\n",
      "Epoch 15/100\n",
      "7/7 [==============================] - 49s 7s/step - loss: 0.7026 - accuracy: 0.6871\n",
      "Epoch 16/100\n",
      "7/7 [==============================] - 50s 7s/step - loss: 0.6668 - accuracy: 0.7282\n",
      "Epoch 17/100\n",
      "7/7 [==============================] - 49s 7s/step - loss: 0.7107 - accuracy: 0.6942\n",
      "Epoch 18/100\n",
      "7/7 [==============================] - 49s 7s/step - loss: 0.7143 - accuracy: 0.7184\n",
      "Epoch 19/100\n",
      "7/7 [==============================] - 48s 7s/step - loss: 0.6596 - accuracy: 0.7200\n",
      "Epoch 20/100\n",
      "7/7 [==============================] - 49s 7s/step - loss: 0.6506 - accuracy: 0.7334\n",
      "Epoch 21/100\n",
      "7/7 [==============================] - 49s 7s/step - loss: 0.6934 - accuracy: 0.6773\n",
      "Epoch 22/100\n",
      "7/7 [==============================] - 49s 7s/step - loss: 0.6310 - accuracy: 0.7239\n",
      "Epoch 23/100\n",
      "7/7 [==============================] - 49s 7s/step - loss: 0.7361 - accuracy: 0.6830\n",
      "Epoch 24/100\n",
      "7/7 [==============================] - 48s 7s/step - loss: 0.6864 - accuracy: 0.7194\n",
      "Epoch 25/100\n",
      "7/7 [==============================] - 49s 7s/step - loss: 0.6155 - accuracy: 0.7330\n",
      "Epoch 26/100\n",
      "7/7 [==============================] - 49s 7s/step - loss: 0.5806 - accuracy: 0.7605\n",
      "Epoch 27/100\n",
      "7/7 [==============================] - 49s 7s/step - loss: 0.5761 - accuracy: 0.7459\n",
      "Epoch 28/100\n",
      "7/7 [==============================] - 48s 7s/step - loss: 0.6196 - accuracy: 0.7232\n",
      "Epoch 29/100\n",
      "7/7 [==============================] - 49s 7s/step - loss: 0.5699 - accuracy: 0.7760\n",
      "Epoch 30/100\n",
      "7/7 [==============================] - 48s 7s/step - loss: 0.6777 - accuracy: 0.6990\n",
      "Epoch 31/100\n",
      "7/7 [==============================] - 49s 7s/step - loss: 0.5147 - accuracy: 0.7702\n",
      "Epoch 32/100\n",
      "7/7 [==============================] - 49s 7s/step - loss: 0.5411 - accuracy: 0.7777\n",
      "Epoch 33/100\n",
      "7/7 [==============================] - 50s 7s/step - loss: 0.6036 - accuracy: 0.7783\n",
      "Epoch 34/100\n",
      "7/7 [==============================] - 49s 7s/step - loss: 0.6472 - accuracy: 0.7084\n",
      "Epoch 35/100\n",
      "7/7 [==============================] - 49s 7s/step - loss: 0.7000 - accuracy: 0.7140\n",
      "Epoch 36/100\n",
      "7/7 [==============================] - 48s 7s/step - loss: 0.5594 - accuracy: 0.7751\n",
      "Epoch 37/100\n",
      "7/7 [==============================] - 49s 7s/step - loss: 0.5867 - accuracy: 0.7365\n",
      "Epoch 38/100\n",
      "7/7 [==============================] - 48s 7s/step - loss: 0.6419 - accuracy: 0.7378\n",
      "Epoch 39/100\n",
      "7/7 [==============================] - 49s 7s/step - loss: 0.5073 - accuracy: 0.7756\n",
      "Epoch 40/100\n",
      "7/7 [==============================] - 48s 7s/step - loss: 0.6538 - accuracy: 0.6836\n",
      "Epoch 41/100\n",
      "7/7 [==============================] - 48s 7s/step - loss: 0.4313 - accuracy: 0.8417\n",
      "Epoch 42/100\n",
      "7/7 [==============================] - 47s 7s/step - loss: 0.4858 - accuracy: 0.8245\n",
      "Epoch 43/100\n",
      "7/7 [==============================] - 48s 7s/step - loss: 0.4969 - accuracy: 0.8388\n",
      "Epoch 44/100\n",
      "7/7 [==============================] - 48s 7s/step - loss: 0.5182 - accuracy: 0.7917\n",
      "Epoch 45/100\n",
      "7/7 [==============================] - 49s 7s/step - loss: 0.4461 - accuracy: 0.7872\n",
      "Epoch 46/100\n",
      "7/7 [==============================] - 48s 7s/step - loss: 0.4515 - accuracy: 0.7806\n",
      "Epoch 47/100\n",
      "7/7 [==============================] - 48s 7s/step - loss: 0.5110 - accuracy: 0.8041\n",
      "Epoch 48/100\n",
      "7/7 [==============================] - 48s 7s/step - loss: 0.4555 - accuracy: 0.8360\n",
      "Epoch 49/100\n",
      "7/7 [==============================] - 48s 7s/step - loss: 0.4438 - accuracy: 0.8106\n",
      "Epoch 50/100\n",
      "7/7 [==============================] - 49s 7s/step - loss: 0.4333 - accuracy: 0.8325\n",
      "Epoch 51/100\n",
      "7/7 [==============================] - 48s 7s/step - loss: 0.4888 - accuracy: 0.8114\n",
      "Epoch 52/100\n",
      "7/7 [==============================] - 48s 7s/step - loss: 0.4609 - accuracy: 0.8146\n",
      "Epoch 53/100\n",
      "7/7 [==============================] - 48s 7s/step - loss: 0.4789 - accuracy: 0.8086\n",
      "Epoch 54/100\n",
      "7/7 [==============================] - 49s 7s/step - loss: 0.4732 - accuracy: 0.8357\n",
      "Epoch 55/100\n",
      "7/7 [==============================] - 48s 7s/step - loss: 0.4761 - accuracy: 0.8099\n",
      "Epoch 56/100\n",
      "7/7 [==============================] - 48s 7s/step - loss: 0.4306 - accuracy: 0.8145\n",
      "Epoch 57/100\n",
      "7/7 [==============================] - 49s 7s/step - loss: 0.5764 - accuracy: 0.7647\n",
      "Epoch 58/100\n",
      "7/7 [==============================] - 49s 7s/step - loss: 0.3815 - accuracy: 0.8338\n",
      "Epoch 59/100\n",
      "7/7 [==============================] - 49s 7s/step - loss: 0.3586 - accuracy: 0.8471\n",
      "Epoch 60/100\n",
      "7/7 [==============================] - 48s 7s/step - loss: 0.3959 - accuracy: 0.8283\n",
      "Epoch 61/100\n",
      "7/7 [==============================] - 49s 7s/step - loss: 0.3993 - accuracy: 0.8637\n",
      "Epoch 62/100\n",
      "7/7 [==============================] - 49s 7s/step - loss: 0.4060 - accuracy: 0.8410\n",
      "Epoch 63/100\n",
      "7/7 [==============================] - 49s 7s/step - loss: 0.4090 - accuracy: 0.8369\n",
      "Epoch 64/100\n",
      "7/7 [==============================] - 49s 7s/step - loss: 0.4473 - accuracy: 0.8397\n",
      "Epoch 65/100\n",
      "7/7 [==============================] - 49s 7s/step - loss: 0.4057 - accuracy: 0.8464\n",
      "Epoch 66/100\n",
      "7/7 [==============================] - 49s 7s/step - loss: 0.5803 - accuracy: 0.7616\n",
      "Epoch 67/100\n",
      "7/7 [==============================] - 48s 7s/step - loss: 0.2715 - accuracy: 0.8995\n",
      "Epoch 68/100\n",
      "7/7 [==============================] - 48s 7s/step - loss: 0.3186 - accuracy: 0.8886\n",
      "Epoch 69/100\n",
      "7/7 [==============================] - 49s 7s/step - loss: 0.4044 - accuracy: 0.8532\n",
      "Epoch 70/100\n",
      "7/7 [==============================] - 49s 7s/step - loss: 0.3986 - accuracy: 0.8226\n",
      "Epoch 71/100\n",
      "7/7 [==============================] - 48s 7s/step - loss: 0.4725 - accuracy: 0.7709\n",
      "Epoch 72/100\n",
      "7/7 [==============================] - 48s 7s/step - loss: 0.5742 - accuracy: 0.7214\n",
      "Epoch 73/100\n",
      "7/7 [==============================] - 48s 7s/step - loss: 0.3351 - accuracy: 0.9179\n",
      "Epoch 74/100\n",
      "7/7 [==============================] - 49s 7s/step - loss: 0.3294 - accuracy: 0.8940\n",
      "Epoch 75/100\n",
      "7/7 [==============================] - 48s 7s/step - loss: 0.3645 - accuracy: 0.8386\n",
      "Epoch 76/100\n",
      "7/7 [==============================] - 48s 7s/step - loss: 0.3168 - accuracy: 0.8791\n",
      "Epoch 77/100\n",
      "7/7 [==============================] - 48s 6s/step - loss: 0.3119 - accuracy: 0.9135\n",
      "Epoch 78/100\n",
      "7/7 [==============================] - 48s 7s/step - loss: 0.2439 - accuracy: 0.8925\n",
      "Epoch 79/100\n",
      "7/7 [==============================] - 48s 7s/step - loss: 0.2590 - accuracy: 0.9338\n",
      "Epoch 80/100\n",
      "7/7 [==============================] - 48s 6s/step - loss: 0.2542 - accuracy: 0.9130\n",
      "Epoch 81/100\n",
      "7/7 [==============================] - 48s 7s/step - loss: 0.3352 - accuracy: 0.8858\n",
      "Epoch 82/100\n",
      "7/7 [==============================] - 48s 6s/step - loss: 0.3255 - accuracy: 0.8832\n",
      "Epoch 83/100\n",
      "7/7 [==============================] - 48s 6s/step - loss: 0.2870 - accuracy: 0.9083\n",
      "Epoch 84/100\n"
     ]
    },
    {
     "name": "stdout",
     "output_type": "stream",
     "text": [
      "7/7 [==============================] - 48s 7s/step - loss: 0.2068 - accuracy: 0.9469\n",
      "Epoch 85/100\n",
      "7/7 [==============================] - 48s 6s/step - loss: 0.2888 - accuracy: 0.8868\n",
      "Epoch 86/100\n",
      "7/7 [==============================] - 48s 7s/step - loss: 0.2921 - accuracy: 0.9088\n",
      "Epoch 87/100\n",
      "7/7 [==============================] - 48s 7s/step - loss: 0.3950 - accuracy: 0.8299\n",
      "Epoch 88/100\n",
      "7/7 [==============================] - 48s 7s/step - loss: 0.3092 - accuracy: 0.8909\n",
      "Epoch 89/100\n",
      "7/7 [==============================] - 48s 7s/step - loss: 0.3596 - accuracy: 0.8370\n",
      "Epoch 90/100\n",
      "7/7 [==============================] - 48s 7s/step - loss: 0.3874 - accuracy: 0.8433\n",
      "Epoch 91/100\n",
      "7/7 [==============================] - 48s 7s/step - loss: 0.2887 - accuracy: 0.8871\n",
      "Epoch 92/100\n",
      "7/7 [==============================] - 48s 7s/step - loss: 0.2643 - accuracy: 0.9014\n",
      "Epoch 93/100\n",
      "7/7 [==============================] - 48s 7s/step - loss: 0.2528 - accuracy: 0.9199\n",
      "Epoch 94/100\n",
      "7/7 [==============================] - 48s 7s/step - loss: 0.2133 - accuracy: 0.9341\n",
      "Epoch 95/100\n",
      "7/7 [==============================] - 48s 7s/step - loss: 0.2921 - accuracy: 0.9127\n",
      "Epoch 96/100\n",
      "7/7 [==============================] - 48s 7s/step - loss: 0.2726 - accuracy: 0.8932\n",
      "Epoch 97/100\n",
      "7/7 [==============================] - 48s 7s/step - loss: 0.2248 - accuracy: 0.9228\n",
      "Epoch 98/100\n",
      "7/7 [==============================] - 48s 7s/step - loss: 0.3666 - accuracy: 0.8363\n",
      "Epoch 99/100\n",
      "7/7 [==============================] - 48s 7s/step - loss: 0.2376 - accuracy: 0.8945\n",
      "Epoch 100/100\n",
      "7/7 [==============================] - 48s 7s/step - loss: 0.2534 - accuracy: 0.8911\n"
     ]
    },
    {
     "data": {
      "text/plain": [
       "<tensorflow.python.keras.callbacks.History at 0x22ed61e0fa0>"
      ]
     },
     "execution_count": 7,
     "metadata": {},
     "output_type": "execute_result"
    }
   ],
   "source": [
    "base_model = ResNet50(include_top=False, weights='imagenet')\n",
    "x = base_model.output\n",
    "x = GlobalAveragePooling2D()(x)\n",
    "x = Dense(1024, activation='relu')(x)\n",
    "predictions = Dense(train_generator.num_classes, activation='softmax')(x)\n",
    "model = Model(inputs=base_model.input, outputs=predictions)\n",
    "\n",
    "for layer in base_model.layers:\n",
    "    layer.trainable = False\n",
    "    \n",
    "model.compile(optimizer='adam', loss='categorical_crossentropy', metrics = ['accuracy'])\n",
    "\n",
    "model.fit(train_generator,\n",
    "                         epochs = 100)"
   ]
  },
  {
   "cell_type": "code",
   "execution_count": 8,
   "metadata": {},
   "outputs": [],
   "source": [
    "model.save('dataset\\Saved_Model\\ResNet50_Carcass.h5')"
   ]
  },
  {
   "cell_type": "code",
   "execution_count": 9,
   "metadata": {},
   "outputs": [
    {
     "name": "stdout",
     "output_type": "stream",
     "text": [
      "45/45 - 14s - loss: 0.8696 - accuracy: 0.6889\n",
      "\n",
      "Test accuracy: 0.6888889074325562\n"
     ]
    }
   ],
   "source": [
    "test_loss, test_acc = model.evaluate(test_generator, verbose=2)\n",
    "print('\\nTest accuracy:', test_acc)"
   ]
  },
  {
   "cell_type": "code",
   "execution_count": 10,
   "metadata": {},
   "outputs": [
    {
     "data": {
      "image/png": "[encoded data removed]",
      "text/plain": [
       "<Figure size 432x288 with 2 Axes>"
      ]
     },
     "metadata": {
      "needs_background": "light"
     },
     "output_type": "display_data"
    },
    {
     "name": "stdout",
     "output_type": "stream",
     "text": [
      "test accuracy : 55.55555555555556\n"
     ]
    }
   ],
   "source": [
    "import pandas as pd\n",
    "import seaborn as sn\n",
    "import tensorflow as tf\n",
    "\n",
    "model = tf.keras.models.load_model(\"dataset\\Saved_Model\\ResNet50_Carcass.h5\")\n",
    "filenames = test_generator.filenames\n",
    "nb_samples = len(test_generator)\n",
    "y_prob=[]\n",
    "y_act=[]\n",
    "test_generator.reset()\n",
    "for _ in range(nb_samples):\n",
    "  X_test,Y_test = test_generator.next()\n",
    "  y_prob.append(model.predict(X_test))\n",
    "  y_act.append(Y_test)\n",
    "\n",
    "predicted_class = [list(train_generator.class_indices.keys())[i.argmax()] for i in y_prob]\n",
    "actual_class = [list(train_generator.class_indices.keys())[i.argmax()] for i in y_act]\n",
    "\n",
    "\n",
    "out_df = pd.DataFrame(np.vstack([predicted_class,actual_class]).T,columns=['predicted_class','actual_class'])\n",
    "confusion_matrix = pd.crosstab(out_df['actual_class'],out_df['predicted_class'], rownames=['Actual'], colnames=['Predicted'])\n",
    "\n",
    "sn.heatmap(confusion_matrix,cmap='Blues', annot=True,fmt='d')\n",
    "plt.show()\n",
    "print('test accuracy : {}'.format((np.diagonal(confusion_matrix).sum()/confusion_matrix.sum().sum()*100)))"
   ]
  },
  {
   "cell_type": "code",
   "execution_count": 11,
   "metadata": {},
   "outputs": [
    {
     "name": "stdout",
     "output_type": "stream",
     "text": [
      "Found 203 images belonging to 4 classes.\n"
     ]
    }
   ],
   "source": [
    "train_generator = train_datagen.flow_from_directory(\n",
    "    train_data_dir,\n",
    "    target_size=(img_height, img_width),\n",
    "    batch_size=1,\n",
    "    class_mode='categorical',\n",
    "    subset='training') # set as training data"
   ]
  },
  {
   "cell_type": "code",
   "execution_count": 12,
   "metadata": {},
   "outputs": [],
   "source": [
    "test_generator = train_generator"
   ]
  },
  {
   "cell_type": "code",
   "execution_count": 13,
   "metadata": {},
   "outputs": [
    {
     "data": {
      "image/png": "[encoded data removed]",
      "text/plain": [
       "<Figure size 432x288 with 2 Axes>"
      ]
     },
     "metadata": {
      "needs_background": "light"
     },
     "output_type": "display_data"
    },
    {
     "name": "stdout",
     "output_type": "stream",
     "text": [
      "test accuracy : 92.61083743842364\n"
     ]
    }
   ],
   "source": [
    "import pandas as pd\n",
    "import seaborn as sn\n",
    "import tensorflow as tf\n",
    "\n",
    "model = tf.keras.models.load_model(\"dataset\\Saved_Model\\ResNet50_Carcass.h5\")\n",
    "filenames = test_generator.filenames\n",
    "nb_samples = len(test_generator)\n",
    "y_prob=[]\n",
    "y_act=[]\n",
    "test_generator.reset()\n",
    "for _ in range(nb_samples):\n",
    "  X_test,Y_test = test_generator.next()\n",
    "  y_prob.append(model.predict(X_test))\n",
    "  y_act.append(Y_test)\n",
    "\n",
    "predicted_class = [list(train_generator.class_indices.keys())[i.argmax()] for i in y_prob]\n",
    "actual_class = [list(train_generator.class_indices.keys())[i.argmax()] for i in y_act]\n",
    "\n",
    "\n",
    "out_df = pd.DataFrame(np.vstack([predicted_class,actual_class]).T,columns=['predicted_class','actual_class'])\n",
    "confusion_matrix = pd.crosstab(out_df['actual_class'],out_df['predicted_class'], rownames=['Actual'], colnames=['Predicted'])\n",
    "\n",
    "sn.heatmap(confusion_matrix,cmap='Blues', annot=True,fmt='d')\n",
    "plt.show()\n",
    "print('test accuracy : {}'.format((np.diagonal(confusion_matrix).sum()/confusion_matrix.sum().sum()*100)))"
   ]
  },
  {
   "cell_type": "code",
   "execution_count": null,
   "metadata": {},
   "outputs": [],
   "source": []
  }
 ],
 "metadata": {
  "kernelspec": {
   "display_name": "Python 3",
   "language": "python",
   "name": "python3"
  },
  "language_info": {
   "codemirror_mode": {
    "name": "ipython",
    "version": 3
   },
   "file_extension": ".py",
   "mimetype": "text/x-python",
   "name": "python",
   "nbconvert_exporter": "python",
   "pygments_lexer": "ipython3",
   "version": "3.8.5"
  },
  "toc": {
   "base_numbering": 1,
   "nav_menu": {},
   "number_sections": true,
   "sideBar": true,
   "skip_h1_title": false,
   "title_cell": "Table of Contents",
   "title_sidebar": "Contents",
   "toc_cell": false,
   "toc_position": {},
   "toc_section_display": true,
   "toc_window_display": false
  }
 },
 "nbformat": 4,
 "nbformat_minor": 2
}
